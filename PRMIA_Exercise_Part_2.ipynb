{
  "nbformat": 4,
  "nbformat_minor": 0,
  "metadata": {
    "colab": {
      "provenance": [],
      "mount_file_id": "1N0pNe0aFyEnMaZkYMUn-mhsofNj1xvxp",
      "authorship_tag": "ABX9TyOUH10wMu1mmkQLHYBQUf5D",
      "include_colab_link": true
    },
    "kernelspec": {
      "name": "python3",
      "display_name": "Python 3"
    },
    "language_info": {
      "name": "python"
    }
  },
  "cells": [
    {
      "cell_type": "markdown",
      "metadata": {
        "id": "view-in-github",
        "colab_type": "text"
      },
      "source": [
        "<a href=\"https://colab.research.google.com/github/cianryan09/VaR-Calculation/blob/main/PRMIA_Exercise_Part_2.ipynb\" target=\"_parent\"><img src=\"https://colab.research.google.com/assets/colab-badge.svg\" alt=\"Open In Colab\"/></a>"
      ]
    },
    {
      "cell_type": "code",
      "execution_count": null,
      "metadata": {
        "id": "KsvkcZQGIzjq"
      },
      "outputs": [],
      "source": [
        "import pandas as pd\n",
        "import numpy as np"
      ]
    },
    {
      "cell_type": "code",
      "source": [
        "# 1. Construct your portfolio\n",
        "\n",
        "df_returns = pd.read_csv('/content/drive/MyDrive/Colab Notebooks/PRM/PRM Returns.csv', index_col='date')\n",
        "df_returns = df_returns.fillna(0)"
      ],
      "metadata": {
        "id": "a6STPLwTI4kv"
      },
      "execution_count": null,
      "outputs": []
    },
    {
      "cell_type": "code",
      "source": [
        "df_weights = pd.read_csv('/content/drive/MyDrive/Colab Notebooks/PRM/PRM Weights.csv', index_col=False)\n",
        "df_weights"
      ],
      "metadata": {
        "id": "9ckyh_lLKOIW"
      },
      "execution_count": null,
      "outputs": []
    },
    {
      "cell_type": "code",
      "source": [
        "weights = df_weights['Weight %'].to_numpy()\n",
        "weights"
      ],
      "metadata": {
        "id": "ZwvfmjM5QcyP",
        "colab": {
          "base_uri": "https://localhost:8080/"
        },
        "outputId": "5417b743-a46d-44ce-bbac-e340312c9d03"
      },
      "execution_count": null,
      "outputs": [
        {
          "output_type": "execute_result",
          "data": {
            "text/plain": [
              "array([8.6500e-03, 3.7000e-03, 1.8100e-03, 6.1800e-03, 7.8600e-03,\n",
              "       1.0490e-02, 4.9600e-03, 1.3400e-03, 4.5400e-03, 9.6700e-03,\n",
              "       2.8000e-04, 3.1400e-03, 1.2800e-03, 9.1500e-03, 1.3170e-02,\n",
              "       1.5000e-03, 1.5700e-03, 8.7400e-03, 1.3600e-03, 3.7900e-03,\n",
              "       7.0000e-04, 3.8600e-03, 1.5000e-04, 3.7100e-03, 1.4840e-02,\n",
              "       3.7000e-03, 8.1700e-03, 1.9268e-01, 1.7500e-03, 1.5300e-03,\n",
              "       6.6900e-03, 9.9000e-04, 4.0000e-03, 1.5400e-03, 6.0000e-04,\n",
              "       6.7070e-02, 1.2228e-01, 2.0280e-02, 6.8500e-03, 3.9300e-03,\n",
              "       3.4300e-03, 4.0461e-01, 2.7400e-03, 1.0200e-03, 1.4100e-03,\n",
              "       9.1600e-03, 9.1300e-03])"
            ]
          },
          "metadata": {},
          "execution_count": 4
        }
      ]
    },
    {
      "cell_type": "code",
      "source": [
        "start_dates = ['2019-01-02', '2020-01-02', '2021-01-04', '2022-01-03', '2023-01-03']\n",
        "end_dates = ['2019-12-31', '2020-12-31', '2021-12-31', '2022-12-30', '2023-12-29']"
      ],
      "metadata": {
        "id": "EpepDIfhKedf"
      },
      "execution_count": null,
      "outputs": []
    },
    {
      "cell_type": "code",
      "source": [
        "dates = df_returns.index.to_list()\n",
        "dates"
      ],
      "metadata": {
        "id": "if1KAEvWKjTU"
      },
      "execution_count": null,
      "outputs": []
    },
    {
      "cell_type": "code",
      "source": [
        "starts = [dates.index(s) for s in start_dates]\n",
        "ends = [dates.index(e) for e in end_dates]\n",
        "\n",
        "indices = [(s, e) for s, e in zip(starts, ends)]\n",
        "indices"
      ],
      "metadata": {
        "colab": {
          "base_uri": "https://localhost:8080/"
        },
        "id": "f8-3JD-0K4P3",
        "outputId": "e037dc68-1f2c-44da-b039-31d5cf2d4fdb"
      },
      "execution_count": null,
      "outputs": [
        {
          "output_type": "execute_result",
          "data": {
            "text/plain": [
              "[(0, 251), (252, 504), (505, 756), (757, 1007), (1008, 1257)]"
            ]
          },
          "metadata": {},
          "execution_count": 96
        }
      ]
    },
    {
      "cell_type": "code",
      "source": [
        "returns = df_returns.to_numpy().T\n",
        "# returns_arrays = [returns[:,s:e] for (s,e) in indices]\n",
        "# covariances = [np.cov(ret) for ret in returns_arrays]\n",
        "# covariances"
      ],
      "metadata": {
        "id": "itcgR2R2M45b"
      },
      "execution_count": null,
      "outputs": []
    },
    {
      "cell_type": "code",
      "source": [
        "# 3yr Daily VaR - Normal Distribution\n",
        "\n",
        "year = ends[2]\n",
        "rolling_window = ends[-1] - year\n",
        "# rolling_window = 6\n",
        "\n",
        "returns_arrays = [returns[:, n : year + n] for n in range(rolling_window)]\n",
        "covariances = [np.cov(ret) for ret in returns_arrays]"
      ],
      "metadata": {
        "id": "FWfMmea2X-5O"
      },
      "execution_count": null,
      "outputs": []
    },
    {
      "cell_type": "code",
      "source": [
        "std_devs = np.array([np.sqrt(weights @ c @ weights.T) for c in covariances])\n"
      ],
      "metadata": {
        "id": "ei7Gd7hdOr7_"
      },
      "execution_count": null,
      "outputs": []
    },
    {
      "cell_type": "code",
      "source": [
        "import scipy.stats as st\n",
        "z_score_95 = st.norm.ppf(.95)\n",
        "z_score_99 = st.norm.ppf(.99)"
      ],
      "metadata": {
        "id": "W4iMZSTYRf22"
      },
      "execution_count": null,
      "outputs": []
    },
    {
      "cell_type": "code",
      "source": [
        "# 2a. VaR Estimation\n",
        "\n",
        "VaR_95 = std_devs * z_score_95\n",
        "VaR_99 = std_devs * z_score_99"
      ],
      "metadata": {
        "id": "lPFU-otjRkFB"
      },
      "execution_count": null,
      "outputs": []
    },
    {
      "cell_type": "code",
      "source": [
        "VaR_95.shape"
      ],
      "metadata": {
        "colab": {
          "base_uri": "https://localhost:8080/"
        },
        "id": "y-7fkIaHHXmS",
        "outputId": "e9271f6b-daca-445f-b89e-7a110ee47e7e"
      },
      "execution_count": null,
      "outputs": [
        {
          "output_type": "execute_result",
          "data": {
            "text/plain": [
              "(501,)"
            ]
          },
          "metadata": {},
          "execution_count": 65
        }
      ]
    },
    {
      "cell_type": "code",
      "source": [
        "years_diffs = [b - a for (a, b) in indices]\n",
        "years_diffs"
      ],
      "metadata": {
        "colab": {
          "base_uri": "https://localhost:8080/"
        },
        "id": "gtMTv9_ZfS9u",
        "outputId": "085daa17-d69d-41cf-8c09-e86284bce80b"
      },
      "execution_count": null,
      "outputs": [
        {
          "output_type": "execute_result",
          "data": {
            "text/plain": [
              "[251, 252, 251, 250, 249]"
            ]
          },
          "metadata": {},
          "execution_count": 15
        }
      ]
    },
    {
      "cell_type": "code",
      "source": [
        "# 2b. EMWA VaR\n",
        "\n",
        "# sig = 0.94\n",
        "\n",
        "# alphas = [np.array([(1 - sig) /(1 - sig ** (-n)) for n in range(-e,0)]) for e in years_diffs]\n",
        "# alphas[0]"
      ],
      "metadata": {
        "id": "jW672hnhboDi"
      },
      "execution_count": null,
      "outputs": []
    },
    {
      "cell_type": "code",
      "source": [
        "# 2b. EMWA VaR\n",
        "\n",
        "sig = 0.94\n",
        "\n",
        "alphas = np.array([(1 - sig) /(1 - sig ** (-n)) for n in range(-year,0)])\n",
        "alphas.shape"
      ],
      "metadata": {
        "colab": {
          "base_uri": "https://localhost:8080/"
        },
        "id": "DWMW6itUf5ql",
        "outputId": "b7556b09-935e-4ba0-f18a-86fde25ae0ad"
      },
      "execution_count": null,
      "outputs": [
        {
          "output_type": "execute_result",
          "data": {
            "text/plain": [
              "(756,)"
            ]
          },
          "metadata": {},
          "execution_count": 36
        }
      ]
    },
    {
      "cell_type": "code",
      "source": [
        "# emwa_returns = [np.multiply(a, r) for a, r in zip(alphas, returns_arrays)]\n",
        "\n",
        "# emwa_covs = [np.cov(r, aweights=a) for r, a in zip(returns_arrays, alphas)]\n",
        "# emwa_covs"
      ],
      "metadata": {
        "id": "KROPoa9Cclyi"
      },
      "execution_count": null,
      "outputs": []
    },
    {
      "cell_type": "code",
      "source": [
        "# emwa_returns = [np.multiply(a, r) for a, r in zip(alphas, returns_arrays)]\n",
        "\n",
        "emwa_covs = [np.cov(r, aweights=alphas) for r in returns_arrays]\n",
        "len(emwa_covs)"
      ],
      "metadata": {
        "colab": {
          "base_uri": "https://localhost:8080/"
        },
        "id": "FvoHkKRRgYcb",
        "outputId": "dde6a676-915c-4fbb-a769-815179cd7dc8"
      },
      "execution_count": null,
      "outputs": [
        {
          "output_type": "execute_result",
          "data": {
            "text/plain": [
              "501"
            ]
          },
          "metadata": {},
          "execution_count": 99
        }
      ]
    },
    {
      "cell_type": "code",
      "source": [
        "emwa_std_devs = np.array([np.sqrt(weights @ c @ weights.T) for c in emwa_covs])\n",
        "emwa_std_devs"
      ],
      "metadata": {
        "id": "jcPpC_ptgP_k"
      },
      "execution_count": null,
      "outputs": []
    },
    {
      "cell_type": "code",
      "source": [
        "emwa_var_95 = emwa_std_devs * z_score_95\n",
        "emwa_var_99 = emwa_std_devs * z_score_99"
      ],
      "metadata": {
        "id": "epE-smOcCvww"
      },
      "execution_count": null,
      "outputs": []
    },
    {
      "cell_type": "code",
      "source": [
        "returns_arrays[0].shape"
      ],
      "metadata": {
        "colab": {
          "base_uri": "https://localhost:8080/"
        },
        "id": "fsguE__BZIa8",
        "outputId": "8f7d4c71-c9db-4ed2-cdf4-c38dbdffcaa7"
      },
      "execution_count": null,
      "outputs": [
        {
          "output_type": "execute_result",
          "data": {
            "text/plain": [
              "(47, 756)"
            ]
          },
          "metadata": {},
          "execution_count": 100
        }
      ]
    },
    {
      "cell_type": "code",
      "source": [
        "# historical VaR\n",
        "\n",
        "weighted_returns = [weights.T @ r for r in returns_arrays]\n",
        "weighted_returns[0].shape"
      ],
      "metadata": {
        "id": "ASTVXLII0SRC",
        "colab": {
          "base_uri": "https://localhost:8080/"
        },
        "outputId": "2b09866e-73d8-486b-eeab-d5b050caa1b4"
      },
      "execution_count": null,
      "outputs": [
        {
          "output_type": "execute_result",
          "data": {
            "text/plain": [
              "(756,)"
            ]
          },
          "metadata": {},
          "execution_count": 22
        }
      ]
    },
    {
      "cell_type": "code",
      "source": [
        "hist_var_95 = np.array([np.percentile(np.array(w), .05) for w in weighted_returns])\n",
        "hist_var_95"
      ],
      "metadata": {
        "id": "zd2OJUxbGnDf",
        "colab": {
          "base_uri": "https://localhost:8080/"
        },
        "outputId": "5caa2827-d86a-4e24-dd88-9f638caf254d"
      },
      "execution_count": null,
      "outputs": [
        {
          "output_type": "execute_result",
          "data": {
            "text/plain": [
              "array([-0.01649987, -0.01649987, -0.01649987, -0.01649987, -0.01649987,\n",
              "       -0.01649987, -0.01649987, -0.01649987, -0.01649987, -0.01649987,\n",
              "       -0.01649987, -0.01649987, -0.01649987, -0.01649987, -0.01649987,\n",
              "       -0.01649987, -0.01649987, -0.01649987, -0.01649987, -0.01649987,\n",
              "       -0.01649987, -0.01649987, -0.01649987, -0.01649987, -0.01649987,\n",
              "       -0.01649987, -0.01649987, -0.01649987, -0.01649987, -0.01649987,\n",
              "       -0.01649987, -0.01649987, -0.01649987, -0.01649987, -0.01649987,\n",
              "       -0.01649987, -0.01649987, -0.01649987, -0.01649987, -0.01649987,\n",
              "       -0.01649987, -0.01649987, -0.01649987, -0.01649987, -0.01649987,\n",
              "       -0.01649987, -0.01649987, -0.01649987, -0.01649987, -0.01649987,\n",
              "       -0.01649987, -0.01649987, -0.01649987, -0.01649987, -0.01649987,\n",
              "       -0.01649987, -0.01649987, -0.01649987, -0.01649987, -0.01649987,\n",
              "       -0.01649987, -0.01649987, -0.01649987, -0.01649987, -0.01649987,\n",
              "       -0.01649987, -0.01649987, -0.01649987, -0.01649987, -0.01649987,\n",
              "       -0.01649987, -0.01649987, -0.01649987, -0.01649987, -0.01649987,\n",
              "       -0.01649987, -0.01649987, -0.01649987, -0.01649987, -0.01649987,\n",
              "       -0.01649987, -0.01649987, -0.01649987, -0.01649987, -0.01649987,\n",
              "       -0.01649987, -0.01649987, -0.01649987, -0.01649987, -0.01649987,\n",
              "       -0.01649987, -0.01649987, -0.01649987, -0.01649987, -0.01649987,\n",
              "       -0.01649987, -0.01649987, -0.01649987, -0.01649987, -0.01649987,\n",
              "       -0.01649987, -0.01649987, -0.01649987, -0.01649987, -0.01649987,\n",
              "       -0.01649987, -0.01649987, -0.01649987, -0.01649987, -0.01649987,\n",
              "       -0.01649987, -0.01649987, -0.01649987, -0.01649987, -0.01649987,\n",
              "       -0.01649987, -0.01649987, -0.01649987, -0.01649987, -0.01649987,\n",
              "       -0.01649987, -0.01649987, -0.01649987, -0.01649987, -0.01649987,\n",
              "       -0.01649987, -0.01649987, -0.01649987, -0.01649987, -0.01649987,\n",
              "       -0.01649987, -0.01649987, -0.01649987, -0.01649987, -0.01649987,\n",
              "       -0.01649987, -0.01649987, -0.01649987, -0.01649987, -0.01649987,\n",
              "       -0.01649987, -0.01649987, -0.01649987, -0.01649987, -0.01649987,\n",
              "       -0.01649987, -0.01649987, -0.01649987, -0.01649987, -0.01649987,\n",
              "       -0.01649987, -0.01649987, -0.01649987, -0.01649987, -0.01649987,\n",
              "       -0.01649987, -0.01649987, -0.01649987, -0.01649987, -0.01649987,\n",
              "       -0.01649987, -0.01649987, -0.01649987, -0.01649987, -0.01649987,\n",
              "       -0.01649987, -0.01649987, -0.01649987, -0.01649987, -0.01649987,\n",
              "       -0.01649987, -0.01649987, -0.01649987, -0.01649987, -0.01649987,\n",
              "       -0.01649987, -0.01649987, -0.01649987, -0.01649987, -0.01649987,\n",
              "       -0.01649987, -0.01649987, -0.01649987, -0.01649987, -0.01649987,\n",
              "       -0.01649987, -0.01649987, -0.01649987, -0.01649987, -0.01649987,\n",
              "       -0.01649987, -0.01649987, -0.01649987, -0.01649987, -0.01649987,\n",
              "       -0.01649987, -0.01649987, -0.01649987, -0.01649987, -0.01649987,\n",
              "       -0.01649987, -0.01649987, -0.01649987, -0.01649987, -0.01649987,\n",
              "       -0.01649987, -0.01649987, -0.01649987, -0.01649987, -0.01649987,\n",
              "       -0.01649987, -0.01649987, -0.01649987, -0.01649987, -0.01649987,\n",
              "       -0.01649987, -0.01649987, -0.01649987, -0.01649987, -0.01649987,\n",
              "       -0.01649987, -0.01649987, -0.01649987, -0.01649987, -0.01649987,\n",
              "       -0.01649987, -0.01649987, -0.01649987, -0.01649987, -0.01649987,\n",
              "       -0.01649987, -0.01649987, -0.01649987, -0.01649987, -0.01649987,\n",
              "       -0.01649987, -0.01649987, -0.01649987, -0.01649987, -0.01649987,\n",
              "       -0.01649987, -0.01649987, -0.01649987, -0.01649987, -0.01649987,\n",
              "       -0.01649987, -0.01649987, -0.01649987, -0.01649987, -0.01649987,\n",
              "       -0.01649987, -0.01649987, -0.01649987, -0.01649987, -0.01649987,\n",
              "       -0.01649987, -0.01649987, -0.01649987, -0.01649987, -0.01649987,\n",
              "       -0.01649987, -0.01649987, -0.01649987, -0.01649987, -0.01649987,\n",
              "       -0.01649987, -0.01649987, -0.01649987, -0.01649987, -0.01649987,\n",
              "       -0.01649987, -0.01649987, -0.01649987, -0.01649987, -0.01649987,\n",
              "       -0.01649987, -0.01649987, -0.01649987, -0.01649987, -0.01649987,\n",
              "       -0.01649987, -0.01649987, -0.01649987, -0.01649987, -0.01649987,\n",
              "       -0.01649987, -0.01649987, -0.01649987, -0.01649987, -0.01649987,\n",
              "       -0.01649987, -0.01649987, -0.01649987, -0.01649987, -0.01649987,\n",
              "       -0.01649987, -0.01649987, -0.01649987, -0.01649987, -0.01649987,\n",
              "       -0.01649987, -0.01477487, -0.01477487, -0.01087253, -0.01087253,\n",
              "       -0.01087253, -0.01087253, -0.01087253, -0.01087253, -0.01087253,\n",
              "       -0.01087253, -0.01087253, -0.01087253, -0.01087253, -0.01087253,\n",
              "       -0.01087253, -0.01087253, -0.01087253, -0.01087253, -0.01087253,\n",
              "       -0.01087253, -0.01087253, -0.01087253, -0.01087253, -0.01087253,\n",
              "       -0.01087253, -0.01087253, -0.01087253, -0.01087253, -0.01087253,\n",
              "       -0.01121024, -0.01121024, -0.01121024, -0.01121024, -0.01121024,\n",
              "       -0.01121024, -0.01121024, -0.01121024, -0.01121024, -0.01121024,\n",
              "       -0.01121024, -0.01121024, -0.01121024, -0.01121024, -0.01121024,\n",
              "       -0.01121024, -0.01121024, -0.01121024, -0.01121024, -0.01121024,\n",
              "       -0.01121024, -0.01121024, -0.01121024, -0.01121024, -0.01121024,\n",
              "       -0.01121024, -0.01121024, -0.01121024, -0.01121024, -0.01121024,\n",
              "       -0.01121024, -0.01121024, -0.01121024, -0.01121024, -0.01121024,\n",
              "       -0.01121024, -0.01121024, -0.01121024, -0.01121024, -0.01121024,\n",
              "       -0.01121024, -0.01121024, -0.01121024, -0.01121024, -0.01121024,\n",
              "       -0.01121024, -0.01121024, -0.01121024, -0.01121024, -0.01121024,\n",
              "       -0.01121024, -0.01121024, -0.01121024, -0.01121024, -0.01121024,\n",
              "       -0.01121024, -0.01121024, -0.01121024, -0.01121024, -0.01121024,\n",
              "       -0.01121024, -0.01121024, -0.01121024, -0.01121024, -0.01121024,\n",
              "       -0.01121024, -0.01121024, -0.01121024, -0.01121024, -0.01121024,\n",
              "       -0.01121024, -0.01121024, -0.01121024, -0.01121024, -0.01121024,\n",
              "       -0.01121024, -0.01121024, -0.01121024, -0.01121024, -0.01121024,\n",
              "       -0.01121024, -0.01121024, -0.01121024, -0.01121024, -0.01121024,\n",
              "       -0.01121024, -0.01121024, -0.01121024, -0.01121024, -0.01121024,\n",
              "       -0.01121024, -0.01121024, -0.01121024, -0.01143663, -0.01143663,\n",
              "       -0.01143663, -0.01217321, -0.01217321, -0.01217321, -0.01217321,\n",
              "       -0.01217321, -0.01217321, -0.01217321, -0.01217321, -0.01217321,\n",
              "       -0.01217321, -0.01217321, -0.01217321, -0.01217321, -0.01217321,\n",
              "       -0.01217321, -0.03242064, -0.03242064, -0.03417975, -0.03417975,\n",
              "       -0.034297  , -0.034297  , -0.034297  , -0.034297  , -0.034297  ,\n",
              "       -0.034297  , -0.034297  , -0.034297  , -0.034297  , -0.034297  ,\n",
              "       -0.034297  , -0.034297  , -0.034297  , -0.034297  , -0.03561404,\n",
              "       -0.03561404, -0.03561404, -0.03561404, -0.03561404, -0.03561404,\n",
              "       -0.03561404, -0.03561404, -0.03561404, -0.03561404, -0.03561404,\n",
              "       -0.03561404, -0.03561404, -0.03561404, -0.03561404, -0.03561404,\n",
              "       -0.03561404, -0.03561404, -0.03561404, -0.03561404, -0.03561404,\n",
              "       -0.03561404, -0.03561404, -0.03561404, -0.03561404, -0.03561404,\n",
              "       -0.03561404, -0.03561404, -0.03561404, -0.03561404, -0.03561404,\n",
              "       -0.03561404, -0.03561404, -0.03561404, -0.03561404, -0.03561404,\n",
              "       -0.03561404, -0.03664781, -0.03664781, -0.03664781, -0.03664781,\n",
              "       -0.03664781])"
            ]
          },
          "metadata": {},
          "execution_count": 141
        }
      ]
    },
    {
      "cell_type": "code",
      "source": [
        "hist_var_99 = np.array([np.percentile(w, .01) for w in weighted_returns])\n",
        "hist_var_99"
      ],
      "metadata": {
        "id": "dM0TCWiZJyxZ",
        "colab": {
          "base_uri": "https://localhost:8080/"
        },
        "outputId": "ae3a056c-7a6e-449d-9655-9dfb7473e0ae"
      },
      "execution_count": null,
      "outputs": [
        {
          "output_type": "execute_result",
          "data": {
            "text/plain": [
              "array([-0.01694658, -0.01694658, -0.01694658, -0.01694658, -0.01694658,\n",
              "       -0.01694658, -0.01694658, -0.01694658, -0.01694658, -0.01694658,\n",
              "       -0.01694658, -0.01694658, -0.01694658, -0.01694658, -0.01694658,\n",
              "       -0.01694658, -0.01694658, -0.01694658, -0.01694658, -0.01694658,\n",
              "       -0.01694658, -0.01694658, -0.01694658, -0.01694658, -0.01694658,\n",
              "       -0.01694658, -0.01694658, -0.01694658, -0.01694658, -0.01694658,\n",
              "       -0.01694658, -0.01694658, -0.01694658, -0.01694658, -0.01694658,\n",
              "       -0.01694658, -0.01694658, -0.01694658, -0.01694658, -0.01694658,\n",
              "       -0.01694658, -0.01694658, -0.01694658, -0.01694658, -0.01694658,\n",
              "       -0.01694658, -0.01694658, -0.01694658, -0.01694658, -0.01694658,\n",
              "       -0.01694658, -0.01694658, -0.01694658, -0.01694658, -0.01694658,\n",
              "       -0.01694658, -0.01694658, -0.01694658, -0.01694658, -0.01694658,\n",
              "       -0.01694658, -0.01694658, -0.01694658, -0.01694658, -0.01694658,\n",
              "       -0.01694658, -0.01694658, -0.01694658, -0.01694658, -0.01694658,\n",
              "       -0.01694658, -0.01694658, -0.01694658, -0.01694658, -0.01694658,\n",
              "       -0.01694658, -0.01694658, -0.01694658, -0.01694658, -0.01694658,\n",
              "       -0.01694658, -0.01694658, -0.01694658, -0.01694658, -0.01694658,\n",
              "       -0.01694658, -0.01694658, -0.01694658, -0.01694658, -0.01694658,\n",
              "       -0.01694658, -0.01694658, -0.01694658, -0.01694658, -0.01694658,\n",
              "       -0.01694658, -0.01694658, -0.01694658, -0.01694658, -0.01694658,\n",
              "       -0.01694658, -0.01694658, -0.01694658, -0.01694658, -0.01694658,\n",
              "       -0.01694658, -0.01694658, -0.01694658, -0.01694658, -0.01694658,\n",
              "       -0.01694658, -0.01694658, -0.01694658, -0.01694658, -0.01694658,\n",
              "       -0.01694658, -0.01694658, -0.01694658, -0.01694658, -0.01694658,\n",
              "       -0.01694658, -0.01694658, -0.01694658, -0.01694658, -0.01694658,\n",
              "       -0.01694658, -0.01694658, -0.01694658, -0.01694658, -0.01694658,\n",
              "       -0.01694658, -0.01694658, -0.01694658, -0.01694658, -0.01694658,\n",
              "       -0.01694658, -0.01694658, -0.01694658, -0.01694658, -0.01694658,\n",
              "       -0.01694658, -0.01694658, -0.01694658, -0.01694658, -0.01694658,\n",
              "       -0.01694658, -0.01694658, -0.01694658, -0.01694658, -0.01694658,\n",
              "       -0.01694658, -0.01694658, -0.01694658, -0.01694658, -0.01694658,\n",
              "       -0.01694658, -0.01694658, -0.01694658, -0.01694658, -0.01694658,\n",
              "       -0.01694658, -0.01694658, -0.01694658, -0.01694658, -0.01694658,\n",
              "       -0.01694658, -0.01694658, -0.01694658, -0.01694658, -0.01694658,\n",
              "       -0.01694658, -0.01694658, -0.01694658, -0.01694658, -0.01694658,\n",
              "       -0.01694658, -0.01694658, -0.01694658, -0.01694658, -0.01694658,\n",
              "       -0.01694658, -0.01694658, -0.01694658, -0.01694658, -0.01694658,\n",
              "       -0.01694658, -0.01694658, -0.01694658, -0.01694658, -0.01694658,\n",
              "       -0.01694658, -0.01694658, -0.01694658, -0.01694658, -0.01694658,\n",
              "       -0.01694658, -0.01694658, -0.01694658, -0.01694658, -0.01694658,\n",
              "       -0.01694658, -0.01694658, -0.01694658, -0.01694658, -0.01694658,\n",
              "       -0.01694658, -0.01694658, -0.01694658, -0.01694658, -0.01694658,\n",
              "       -0.01694658, -0.01694658, -0.01694658, -0.01694658, -0.01694658,\n",
              "       -0.01694658, -0.01694658, -0.01694658, -0.01694658, -0.01694658,\n",
              "       -0.01694658, -0.01694658, -0.01694658, -0.01694658, -0.01694658,\n",
              "       -0.01694658, -0.01694658, -0.01694658, -0.01694658, -0.01694658,\n",
              "       -0.01694658, -0.01694658, -0.01694658, -0.01694658, -0.01694658,\n",
              "       -0.01694658, -0.01694658, -0.01694658, -0.01694658, -0.01694658,\n",
              "       -0.01694658, -0.01694658, -0.01694658, -0.01694658, -0.01694658,\n",
              "       -0.01694658, -0.01694658, -0.01694658, -0.01694658, -0.01694658,\n",
              "       -0.01694658, -0.01694658, -0.01694658, -0.01694658, -0.01694658,\n",
              "       -0.01694658, -0.01694658, -0.01694658, -0.01694658, -0.01694658,\n",
              "       -0.01694658, -0.01694658, -0.01694658, -0.01694658, -0.01694658,\n",
              "       -0.01694658, -0.01694658, -0.01694658, -0.01694658, -0.01694658,\n",
              "       -0.01694658, -0.01694658, -0.01694658, -0.01694658, -0.01694658,\n",
              "       -0.01694658, -0.01694658, -0.01694658, -0.01694658, -0.01694658,\n",
              "       -0.01694658, -0.01694658, -0.01694658, -0.01694658, -0.01694658,\n",
              "       -0.01694658, -0.01694658, -0.01694658, -0.01694658, -0.01694658,\n",
              "       -0.01694658, -0.01694658, -0.01694658, -0.01694658, -0.01694658,\n",
              "       -0.01694658, -0.01694658, -0.01694658, -0.01694658, -0.01694658,\n",
              "       -0.01694658, -0.01660158, -0.01660158, -0.01098214, -0.01098214,\n",
              "       -0.01098214, -0.01098214, -0.01098214, -0.01098214, -0.01098214,\n",
              "       -0.01098214, -0.01098214, -0.01098214, -0.01098214, -0.01098214,\n",
              "       -0.01098214, -0.01098214, -0.01098214, -0.01098214, -0.01098214,\n",
              "       -0.01098214, -0.01098214, -0.01098214, -0.01098214, -0.01098214,\n",
              "       -0.01098214, -0.01098214, -0.01098214, -0.01098214, -0.01098214,\n",
              "       -0.01130761, -0.01130761, -0.01130761, -0.01130761, -0.01130761,\n",
              "       -0.01130761, -0.01130761, -0.01130761, -0.01130761, -0.01130761,\n",
              "       -0.01130761, -0.01130761, -0.01130761, -0.01130761, -0.01130761,\n",
              "       -0.01130761, -0.01130761, -0.01130761, -0.01130761, -0.01130761,\n",
              "       -0.01130761, -0.01130761, -0.01130761, -0.01130761, -0.01130761,\n",
              "       -0.01130761, -0.01130761, -0.01130761, -0.01130761, -0.01130761,\n",
              "       -0.01130761, -0.01130761, -0.01130761, -0.01130761, -0.01130761,\n",
              "       -0.01130761, -0.01130761, -0.01130761, -0.01130761, -0.01130761,\n",
              "       -0.01130761, -0.01130761, -0.01130761, -0.01130761, -0.01130761,\n",
              "       -0.01130761, -0.01130761, -0.01130761, -0.01130761, -0.01130761,\n",
              "       -0.01130761, -0.01130761, -0.01130761, -0.01130761, -0.01130761,\n",
              "       -0.01130761, -0.01130761, -0.01130761, -0.01130761, -0.01130761,\n",
              "       -0.01130761, -0.01130761, -0.01130761, -0.01130761, -0.01130761,\n",
              "       -0.01130761, -0.01130761, -0.01130761, -0.01130761, -0.01130761,\n",
              "       -0.01130761, -0.01130761, -0.01130761, -0.01130761, -0.01130761,\n",
              "       -0.01130761, -0.01130761, -0.01130761, -0.01130761, -0.01130761,\n",
              "       -0.01130761, -0.01130761, -0.01130761, -0.01130761, -0.01130761,\n",
              "       -0.01130761, -0.01130761, -0.01130761, -0.01130761, -0.01130761,\n",
              "       -0.01130761, -0.01130761, -0.01130761, -0.01148741, -0.01148741,\n",
              "       -0.01148741, -0.01249977, -0.01249977, -0.01249977, -0.01249977,\n",
              "       -0.01249977, -0.01249977, -0.01249977, -0.01249977, -0.01249977,\n",
              "       -0.01249977, -0.01249977, -0.01249977, -0.01249977, -0.01249977,\n",
              "       -0.01249977, -0.04204547, -0.04204547, -0.04239729, -0.04239729,\n",
              "       -0.04242074, -0.04242074, -0.04242074, -0.04242074, -0.04242074,\n",
              "       -0.04242074, -0.04242074, -0.04242074, -0.04242074, -0.04242074,\n",
              "       -0.04242074, -0.04242074, -0.04242074, -0.04242074, -0.04268414,\n",
              "       -0.04268414, -0.04268414, -0.04268414, -0.04268414, -0.04268414,\n",
              "       -0.04268414, -0.04268414, -0.04268414, -0.04268414, -0.04268414,\n",
              "       -0.04268414, -0.04268414, -0.04268414, -0.04268414, -0.04268414,\n",
              "       -0.04268414, -0.04268414, -0.04268414, -0.04268414, -0.04268414,\n",
              "       -0.04268414, -0.04268414, -0.04268414, -0.04268414, -0.04268414,\n",
              "       -0.04268414, -0.04268414, -0.04268414, -0.04268414, -0.04268414,\n",
              "       -0.04268414, -0.04268414, -0.04268414, -0.04268414, -0.04268414,\n",
              "       -0.04268414, -0.0428909 , -0.0428909 , -0.0428909 , -0.0428909 ,\n",
              "       -0.0428909 ])"
            ]
          },
          "metadata": {},
          "execution_count": 142
        }
      ]
    },
    {
      "cell_type": "code",
      "source": [
        "rolling_window = returns[:, year + 1 : ]\n",
        "p_returns = weights.T @ rolling_window\n",
        "p_returns"
      ],
      "metadata": {
        "id": "IQil3eW6TDRF"
      },
      "execution_count": null,
      "outputs": []
    },
    {
      "cell_type": "code",
      "source": [
        "counter = 0\n",
        "for r, v in zip(p_returns, VaR_95):\n",
        "#  print('My return is: {} and my VaR is {}. backtest exception is {}'.format(r, -v, (r < -v)))\n",
        " counter += (r < -v)\n",
        "\n",
        "print(counter)"
      ],
      "metadata": {
        "colab": {
          "base_uri": "https://localhost:8080/"
        },
        "id": "_o82fgPYUU9Y",
        "outputId": "753ba769-2015-49a0-a46d-77bd6b0169ce"
      },
      "execution_count": null,
      "outputs": [
        {
          "output_type": "stream",
          "name": "stdout",
          "text": [
            "72\n"
          ]
        }
      ]
    },
    {
      "cell_type": "code",
      "source": [
        "norm_var_99_exceptions = np.array([(r < v) for r, v in zip(p_returns, hist_var_99)]).sum()\n",
        "norm_var_99_exceptions"
      ],
      "metadata": {
        "colab": {
          "base_uri": "https://localhost:8080/"
        },
        "id": "zthv21slTgNs",
        "outputId": "2ef5daf1-0568-446f-c5fe-ec9d81775936"
      },
      "execution_count": null,
      "outputs": [
        {
          "output_type": "execute_result",
          "data": {
            "text/plain": [
              "4"
            ]
          },
          "metadata": {},
          "execution_count": 120
        }
      ]
    },
    {
      "cell_type": "code",
      "source": [
        "# back testing\n",
        "\n",
        "# norm var\n",
        "\n",
        "norm_var_95_exceptions = np.array([(r < -v) for r, v in zip(p_returns, VaR_95)]).sum()\n",
        "norm_var_99_exceptions = np.array([(r < -v) for r, v in zip(p_returns, VaR_99)]).sum()\n",
        "\n",
        "\n",
        "#emwa var\n",
        "\n",
        "emwa_var_95_exceptions = np.array([(r < -v) for r, v in zip(p_returns, emwa_var_95)]).sum()\n",
        "emwa_var_99_exceptions = np.array([(r < -v) for r, v in zip(p_returns, emwa_var_99)]).sum()\n",
        "\n",
        "# hist var\n",
        "\n",
        "hist_var_95_exceptions = np.array([(r < v) for r, v in zip(p_returns, hist_var_95)]).sum()\n",
        "hist_var_99_exceptions = np.array([(r < v) for r, v in zip(p_returns, hist_var_99)]).sum()"
      ],
      "metadata": {
        "id": "-i-F_lGXKL7K"
      },
      "execution_count": null,
      "outputs": []
    },
    {
      "cell_type": "code",
      "source": [
        "exceptions = np.array([norm_var_95_exceptions, norm_var_99_exceptions, emwa_var_95_exceptions, emwa_var_99_exceptions, hist_var_95_exceptions, hist_var_99_exceptions])\n",
        "exceptions"
      ],
      "metadata": {
        "colab": {
          "base_uri": "https://localhost:8080/"
        },
        "id": "MZeilLfxiOMk",
        "outputId": "b7f6b916-6bb2-4b92-8fdc-b502ac4ade67"
      },
      "execution_count": null,
      "outputs": [
        {
          "output_type": "execute_result",
          "data": {
            "text/plain": [
              "array([72, 31, 64, 26,  4,  4])"
            ]
          },
          "metadata": {},
          "execution_count": 137
        }
      ]
    },
    {
      "cell_type": "code",
      "source": [
        "new_index = df_returns.index[year + 1:]\n",
        "new_index2 = df_returns.index[year + 1:]"
      ],
      "metadata": {
        "id": "QA1UklcilUsX"
      },
      "execution_count": null,
      "outputs": []
    },
    {
      "cell_type": "code",
      "source": [
        "len(new_index)"
      ],
      "metadata": {
        "colab": {
          "base_uri": "https://localhost:8080/"
        },
        "id": "PYjU48_ohKrI",
        "outputId": "7f046071-0f2a-410e-d3c7-f9a021139c8b"
      },
      "execution_count": null,
      "outputs": [
        {
          "output_type": "execute_result",
          "data": {
            "text/plain": [
              "501"
            ]
          },
          "metadata": {},
          "execution_count": 125
        }
      ]
    },
    {
      "cell_type": "code",
      "source": [
        "# df_exceptions = pd.DataFrame(exceptions, columns = ['norm_var_95_exceptions', 'norm_var_99_exceptions', 'emwa_var_95_exceptions', 'emwa_var_99_exceptions', 'hist_var_95_exceptions', 'hist_var_99_exceptions'], index=[str(e) for e in exceptions])\n",
        "df_exceptions = pd.DataFrame(exceptions, columns = ['# exceptions'], index=['norm_var_95_exceptions', 'norm_var_99_exceptions', 'emwa_var_95_exceptions', 'emwa_var_99_exceptions', 'hist_var_95_exceptions', 'hist_var_99_exceptions'])\n",
        "df_exceptions"
      ],
      "metadata": {
        "colab": {
          "base_uri": "https://localhost:8080/",
          "height": 237
        },
        "id": "rgUZjdxKiK4Y",
        "outputId": "d73a18a4-07b5-41ee-d870-b7d0cdfb163e"
      },
      "execution_count": null,
      "outputs": [
        {
          "output_type": "execute_result",
          "data": {
            "text/plain": [
              "                        # exceptions\n",
              "norm_var_95_exceptions            72\n",
              "norm_var_99_exceptions            31\n",
              "emwa_var_95_exceptions            64\n",
              "emwa_var_99_exceptions            26\n",
              "hist_var_95_exceptions             4\n",
              "hist_var_99_exceptions             4"
            ],
            "text/html": [
              "\n",
              "  <div id=\"df-2a84f8e1-4a9d-4944-8004-78eda58904ca\" class=\"colab-df-container\">\n",
              "    <div>\n",
              "<style scoped>\n",
              "    .dataframe tbody tr th:only-of-type {\n",
              "        vertical-align: middle;\n",
              "    }\n",
              "\n",
              "    .dataframe tbody tr th {\n",
              "        vertical-align: top;\n",
              "    }\n",
              "\n",
              "    .dataframe thead th {\n",
              "        text-align: right;\n",
              "    }\n",
              "</style>\n",
              "<table border=\"1\" class=\"dataframe\">\n",
              "  <thead>\n",
              "    <tr style=\"text-align: right;\">\n",
              "      <th></th>\n",
              "      <th># exceptions</th>\n",
              "    </tr>\n",
              "  </thead>\n",
              "  <tbody>\n",
              "    <tr>\n",
              "      <th>norm_var_95_exceptions</th>\n",
              "      <td>72</td>\n",
              "    </tr>\n",
              "    <tr>\n",
              "      <th>norm_var_99_exceptions</th>\n",
              "      <td>31</td>\n",
              "    </tr>\n",
              "    <tr>\n",
              "      <th>emwa_var_95_exceptions</th>\n",
              "      <td>64</td>\n",
              "    </tr>\n",
              "    <tr>\n",
              "      <th>emwa_var_99_exceptions</th>\n",
              "      <td>26</td>\n",
              "    </tr>\n",
              "    <tr>\n",
              "      <th>hist_var_95_exceptions</th>\n",
              "      <td>4</td>\n",
              "    </tr>\n",
              "    <tr>\n",
              "      <th>hist_var_99_exceptions</th>\n",
              "      <td>4</td>\n",
              "    </tr>\n",
              "  </tbody>\n",
              "</table>\n",
              "</div>\n",
              "    <div class=\"colab-df-buttons\">\n",
              "\n",
              "  <div class=\"colab-df-container\">\n",
              "    <button class=\"colab-df-convert\" onclick=\"convertToInteractive('df-2a84f8e1-4a9d-4944-8004-78eda58904ca')\"\n",
              "            title=\"Convert this dataframe to an interactive table.\"\n",
              "            style=\"display:none;\">\n",
              "\n",
              "  <svg xmlns=\"http://www.w3.org/2000/svg\" height=\"24px\" viewBox=\"0 -960 960 960\">\n",
              "    <path d=\"M120-120v-720h720v720H120Zm60-500h600v-160H180v160Zm220 220h160v-160H400v160Zm0 220h160v-160H400v160ZM180-400h160v-160H180v160Zm440 0h160v-160H620v160ZM180-180h160v-160H180v160Zm440 0h160v-160H620v160Z\"/>\n",
              "  </svg>\n",
              "    </button>\n",
              "\n",
              "  <style>\n",
              "    .colab-df-container {\n",
              "      display:flex;\n",
              "      gap: 12px;\n",
              "    }\n",
              "\n",
              "    .colab-df-convert {\n",
              "      background-color: #E8F0FE;\n",
              "      border: none;\n",
              "      border-radius: 50%;\n",
              "      cursor: pointer;\n",
              "      display: none;\n",
              "      fill: #1967D2;\n",
              "      height: 32px;\n",
              "      padding: 0 0 0 0;\n",
              "      width: 32px;\n",
              "    }\n",
              "\n",
              "    .colab-df-convert:hover {\n",
              "      background-color: #E2EBFA;\n",
              "      box-shadow: 0px 1px 2px rgba(60, 64, 67, 0.3), 0px 1px 3px 1px rgba(60, 64, 67, 0.15);\n",
              "      fill: #174EA6;\n",
              "    }\n",
              "\n",
              "    .colab-df-buttons div {\n",
              "      margin-bottom: 4px;\n",
              "    }\n",
              "\n",
              "    [theme=dark] .colab-df-convert {\n",
              "      background-color: #3B4455;\n",
              "      fill: #D2E3FC;\n",
              "    }\n",
              "\n",
              "    [theme=dark] .colab-df-convert:hover {\n",
              "      background-color: #434B5C;\n",
              "      box-shadow: 0px 1px 3px 1px rgba(0, 0, 0, 0.15);\n",
              "      filter: drop-shadow(0px 1px 2px rgba(0, 0, 0, 0.3));\n",
              "      fill: #FFFFFF;\n",
              "    }\n",
              "  </style>\n",
              "\n",
              "    <script>\n",
              "      const buttonEl =\n",
              "        document.querySelector('#df-2a84f8e1-4a9d-4944-8004-78eda58904ca button.colab-df-convert');\n",
              "      buttonEl.style.display =\n",
              "        google.colab.kernel.accessAllowed ? 'block' : 'none';\n",
              "\n",
              "      async function convertToInteractive(key) {\n",
              "        const element = document.querySelector('#df-2a84f8e1-4a9d-4944-8004-78eda58904ca');\n",
              "        const dataTable =\n",
              "          await google.colab.kernel.invokeFunction('convertToInteractive',\n",
              "                                                    [key], {});\n",
              "        if (!dataTable) return;\n",
              "\n",
              "        const docLinkHtml = 'Like what you see? Visit the ' +\n",
              "          '<a target=\"_blank\" href=https://colab.research.google.com/notebooks/data_table.ipynb>data table notebook</a>'\n",
              "          + ' to learn more about interactive tables.';\n",
              "        element.innerHTML = '';\n",
              "        dataTable['output_type'] = 'display_data';\n",
              "        await google.colab.output.renderOutput(dataTable, element);\n",
              "        const docLink = document.createElement('div');\n",
              "        docLink.innerHTML = docLinkHtml;\n",
              "        element.appendChild(docLink);\n",
              "      }\n",
              "    </script>\n",
              "  </div>\n",
              "\n",
              "\n",
              "<div id=\"df-c6ec5c34-af3c-4c80-a542-2fe0bf1f0be8\">\n",
              "  <button class=\"colab-df-quickchart\" onclick=\"quickchart('df-c6ec5c34-af3c-4c80-a542-2fe0bf1f0be8')\"\n",
              "            title=\"Suggest charts\"\n",
              "            style=\"display:none;\">\n",
              "\n",
              "<svg xmlns=\"http://www.w3.org/2000/svg\" height=\"24px\"viewBox=\"0 0 24 24\"\n",
              "     width=\"24px\">\n",
              "    <g>\n",
              "        <path d=\"M19 3H5c-1.1 0-2 .9-2 2v14c0 1.1.9 2 2 2h14c1.1 0 2-.9 2-2V5c0-1.1-.9-2-2-2zM9 17H7v-7h2v7zm4 0h-2V7h2v10zm4 0h-2v-4h2v4z\"/>\n",
              "    </g>\n",
              "</svg>\n",
              "  </button>\n",
              "\n",
              "<style>\n",
              "  .colab-df-quickchart {\n",
              "      --bg-color: #E8F0FE;\n",
              "      --fill-color: #1967D2;\n",
              "      --hover-bg-color: #E2EBFA;\n",
              "      --hover-fill-color: #174EA6;\n",
              "      --disabled-fill-color: #AAA;\n",
              "      --disabled-bg-color: #DDD;\n",
              "  }\n",
              "\n",
              "  [theme=dark] .colab-df-quickchart {\n",
              "      --bg-color: #3B4455;\n",
              "      --fill-color: #D2E3FC;\n",
              "      --hover-bg-color: #434B5C;\n",
              "      --hover-fill-color: #FFFFFF;\n",
              "      --disabled-bg-color: #3B4455;\n",
              "      --disabled-fill-color: #666;\n",
              "  }\n",
              "\n",
              "  .colab-df-quickchart {\n",
              "    background-color: var(--bg-color);\n",
              "    border: none;\n",
              "    border-radius: 50%;\n",
              "    cursor: pointer;\n",
              "    display: none;\n",
              "    fill: var(--fill-color);\n",
              "    height: 32px;\n",
              "    padding: 0;\n",
              "    width: 32px;\n",
              "  }\n",
              "\n",
              "  .colab-df-quickchart:hover {\n",
              "    background-color: var(--hover-bg-color);\n",
              "    box-shadow: 0 1px 2px rgba(60, 64, 67, 0.3), 0 1px 3px 1px rgba(60, 64, 67, 0.15);\n",
              "    fill: var(--button-hover-fill-color);\n",
              "  }\n",
              "\n",
              "  .colab-df-quickchart-complete:disabled,\n",
              "  .colab-df-quickchart-complete:disabled:hover {\n",
              "    background-color: var(--disabled-bg-color);\n",
              "    fill: var(--disabled-fill-color);\n",
              "    box-shadow: none;\n",
              "  }\n",
              "\n",
              "  .colab-df-spinner {\n",
              "    border: 2px solid var(--fill-color);\n",
              "    border-color: transparent;\n",
              "    border-bottom-color: var(--fill-color);\n",
              "    animation:\n",
              "      spin 1s steps(1) infinite;\n",
              "  }\n",
              "\n",
              "  @keyframes spin {\n",
              "    0% {\n",
              "      border-color: transparent;\n",
              "      border-bottom-color: var(--fill-color);\n",
              "      border-left-color: var(--fill-color);\n",
              "    }\n",
              "    20% {\n",
              "      border-color: transparent;\n",
              "      border-left-color: var(--fill-color);\n",
              "      border-top-color: var(--fill-color);\n",
              "    }\n",
              "    30% {\n",
              "      border-color: transparent;\n",
              "      border-left-color: var(--fill-color);\n",
              "      border-top-color: var(--fill-color);\n",
              "      border-right-color: var(--fill-color);\n",
              "    }\n",
              "    40% {\n",
              "      border-color: transparent;\n",
              "      border-right-color: var(--fill-color);\n",
              "      border-top-color: var(--fill-color);\n",
              "    }\n",
              "    60% {\n",
              "      border-color: transparent;\n",
              "      border-right-color: var(--fill-color);\n",
              "    }\n",
              "    80% {\n",
              "      border-color: transparent;\n",
              "      border-right-color: var(--fill-color);\n",
              "      border-bottom-color: var(--fill-color);\n",
              "    }\n",
              "    90% {\n",
              "      border-color: transparent;\n",
              "      border-bottom-color: var(--fill-color);\n",
              "    }\n",
              "  }\n",
              "</style>\n",
              "\n",
              "  <script>\n",
              "    async function quickchart(key) {\n",
              "      const quickchartButtonEl =\n",
              "        document.querySelector('#' + key + ' button');\n",
              "      quickchartButtonEl.disabled = true;  // To prevent multiple clicks.\n",
              "      quickchartButtonEl.classList.add('colab-df-spinner');\n",
              "      try {\n",
              "        const charts = await google.colab.kernel.invokeFunction(\n",
              "            'suggestCharts', [key], {});\n",
              "      } catch (error) {\n",
              "        console.error('Error during call to suggestCharts:', error);\n",
              "      }\n",
              "      quickchartButtonEl.classList.remove('colab-df-spinner');\n",
              "      quickchartButtonEl.classList.add('colab-df-quickchart-complete');\n",
              "    }\n",
              "    (() => {\n",
              "      let quickchartButtonEl =\n",
              "        document.querySelector('#df-c6ec5c34-af3c-4c80-a542-2fe0bf1f0be8 button');\n",
              "      quickchartButtonEl.style.display =\n",
              "        google.colab.kernel.accessAllowed ? 'block' : 'none';\n",
              "    })();\n",
              "  </script>\n",
              "</div>\n",
              "    </div>\n",
              "  </div>\n"
            ]
          },
          "metadata": {},
          "execution_count": 139
        }
      ]
    },
    {
      "cell_type": "code",
      "source": [
        "vols_and_vars = np.array([std_devs, VaR_95, VaR_99, emwa_std_devs, emwa_var_95, emwa_var_99, abs(hist_var_95), abs(hist_var_99)])"
      ],
      "metadata": {
        "id": "imrpqaQmmxir"
      },
      "execution_count": null,
      "outputs": []
    },
    {
      "cell_type": "code",
      "source": [
        "df_vars = pd.DataFrame(vols_and_vars.T, columns = ['std_devs', 'VaR_95', 'VaR_99', 'emwa_std_devs', 'emwa_var_95', 'emwa_var_99', 'hist_var_95', 'hist_var_99'], index=new_index2)"
      ],
      "metadata": {
        "id": "MDtVT667mc25"
      },
      "execution_count": null,
      "outputs": []
    },
    {
      "cell_type": "code",
      "source": [
        "df_exceptions.to_csv('Backtest Exceptions.csv', index='date')"
      ],
      "metadata": {
        "id": "m_gppESaGKFW"
      },
      "execution_count": null,
      "outputs": []
    },
    {
      "cell_type": "code",
      "source": [
        "df_vars.to_csv('VaR Results.csv', index='date')"
      ],
      "metadata": {
        "id": "DY6IpB82HCov"
      },
      "execution_count": null,
      "outputs": []
    }
  ]
}