{
  "nbformat": 4,
  "nbformat_minor": 0,
  "metadata": {
    "colab": {
      "provenance": [],
      "mount_file_id": "1H6NYIGmqVYOd8DuGGv53WVMNQZ_gHOZ4",
      "authorship_tag": "ABX9TyOtj6vv/NdSrQuhVoQl2Jyq",
      "include_colab_link": true
    },
    "kernelspec": {
      "name": "python3",
      "display_name": "Python 3"
    },
    "language_info": {
      "name": "python"
    }
  },
  "cells": [
    {
      "cell_type": "markdown",
      "metadata": {
        "id": "view-in-github",
        "colab_type": "text"
      },
      "source": [
        "<a href=\"https://colab.research.google.com/github/cianryan09/VaR-Calculation/blob/main/PRMIA_Exercise_Part_1.ipynb\" target=\"_parent\"><img src=\"https://colab.research.google.com/assets/colab-badge.svg\" alt=\"Open In Colab\"/></a>"
      ]
    },
    {
      "cell_type": "code",
      "execution_count": null,
      "metadata": {
        "id": "Eg7782bwT7FB"
      },
      "outputs": [],
      "source": [
        "import pandas as pd"
      ]
    },
    {
      "cell_type": "code",
      "source": [
        "df = pd.read_csv('/content/drive/MyDrive/Colab Notebooks/Investment_20231229/S&P500_Price_Data_20231229.csv', index_col='date')"
      ],
      "metadata": {
        "id": "FeS0EkUXT_-i"
      },
      "execution_count": null,
      "outputs": []
    },
    {
      "cell_type": "code",
      "source": [
        "!pip install PyPortfolioOpt"
      ],
      "metadata": {
        "id": "5MsxwDI5UmXx"
      },
      "execution_count": null,
      "outputs": []
    },
    {
      "cell_type": "code",
      "source": [
        "from pypfopt.expected_returns import mean_historical_return, capm_return, returns_from_prices\n",
        "from pypfopt.risk_models import CovarianceShrinkage, sample_cov\n",
        "from pypfopt.efficient_frontier import EfficientFrontier\n",
        "from pypfopt import plotting\n",
        "import matplotlib.pyplot as plt\n",
        "import numpy as np"
      ],
      "metadata": {
        "id": "pHB0tqP_VjEo"
      },
      "execution_count": null,
      "outputs": []
    },
    {
      "cell_type": "code",
      "source": [
        "df_bm = df[['Benchmark']]"
      ],
      "metadata": {
        "id": "LDiTR9qfcDrV"
      },
      "execution_count": null,
      "outputs": []
    },
    {
      "cell_type": "code",
      "source": [
        "!pip install financetoolkit"
      ],
      "metadata": {
        "id": "ozbWPDUiADnF"
      },
      "execution_count": null,
      "outputs": []
    },
    {
      "cell_type": "code",
      "source": [
        "from financetoolkit import economics"
      ],
      "metadata": {
        "id": "YGjTcDJ5AIcO"
      },
      "execution_count": null,
      "outputs": []
    },
    {
      "cell_type": "code",
      "source": [
        "f_model = economics.fed_model.get_effective_federal_funds_rate().loc['2023-12-29', 'Rate']\n",
        "f_model"
      ],
      "metadata": {
        "colab": {
          "base_uri": "https://localhost:8080/"
        },
        "id": "2d3C5poqBQWx",
        "outputId": "f0e0aea9-9cef-46de-aeac-43e43f63a8a1"
      },
      "execution_count": null,
      "outputs": [
        {
          "output_type": "execute_result",
          "data": {
            "text/plain": [
              "0.0533"
            ]
          },
          "metadata": {},
          "execution_count": 8
        }
      ]
    },
    {
      "cell_type": "code",
      "source": [
        "rf = f_model\n",
        "\n",
        "mu = capm_return(df, df_bm, risk_free_rate=rf)\n",
        "S = CovarianceShrinkage(df).ledoit_wolf()"
      ],
      "metadata": {
        "id": "gc2oZABdb9ap"
      },
      "execution_count": null,
      "outputs": []
    },
    {
      "cell_type": "code",
      "source": [
        "n_samples = 10000\n",
        "w = np.random.dirichlet(np.ones(len(mu)), n_samples)\n",
        "rets = w.dot(mu)\n",
        "stds = np.sqrt((w.T * (S @ w.T)).sum(axis=0))\n",
        "sharpes = rets / stds"
      ],
      "metadata": {
        "id": "FwgnUhymb5u9"
      },
      "execution_count": null,
      "outputs": []
    },
    {
      "cell_type": "code",
      "source": [
        "# Plot efficient frontier with Monte Carlo sim\n",
        "ef_ = EfficientFrontier(mu, S)\n",
        "\n",
        "fig, ax = plt.subplots()\n",
        "plotting.plot_efficient_frontier(ef_, ax=ax, show_assets=False)\n",
        "\n",
        "# Find and plot the tangency portfolio\n",
        "ef2 = EfficientFrontier(mu, S)\n",
        "\n",
        "# fig, ax = plt.subplots()\n",
        "# plotting.plot_efficient_frontier(ef2, ax=ax, show_assets=False)\n",
        "\n",
        "ef2.max_sharpe()\n",
        "ret_tangent, std_tangent, _ = ef2.portfolio_performance()\n",
        "ax.scatter(std_tangent, ret_tangent, marker=\"*\", s=100, c=\"r\", label=\"Max Sharpe\")\n",
        "\n",
        "# Plot random portfolios\n",
        "ax.scatter(stds, rets, marker=\".\", c=sharpes, cmap=\"viridis_r\")\n",
        "\n",
        "# Format\n",
        "ax.set_title(\"Efficient Frontier with random portfolios\")\n",
        "ax.legend()\n",
        "plt.tight_layout()\n",
        "plt.show()"
      ],
      "metadata": {
        "colab": {
          "base_uri": "https://localhost:8080/",
          "height": 486
        },
        "id": "mKNsPsx1ctVO",
        "outputId": "d70198b0-dfde-424d-b558-e7eac560bc1d"
      },
      "execution_count": null,
      "outputs": [
        {
          "output_type": "display_data",
          "data": {
            "text/plain": [
              "<Figure size 640x480 with 1 Axes>"
            ],
            "image/png": "[encoded data removed]"
          },
          "metadata": {}
        }
      ]
    },
    {
      "cell_type": "code",
      "source": [
        "ef_pp = ef2.portfolio_performance(verbose=True)"
      ],
      "metadata": {
        "colab": {
          "base_uri": "https://localhost:8080/"
        },
        "id": "K6sD__Vq9HYR",
        "outputId": "dc792ab5-5f6c-4ca9-b4d5-2490b572dc3c"
      },
      "execution_count": null,
      "outputs": [
        {
          "output_type": "stream",
          "name": "stdout",
          "text": [
            "Expected annual return: 10.6%\n",
            "Annual volatility: 7.0%\n",
            "Sharpe Ratio: 1.23\n"
          ]
        }
      ]
    },
    {
      "cell_type": "code",
      "source": [
        "# get the weights\n",
        "cleaned_weights = ef2.clean_weights()\n",
        "# ef.save_weights_to_file(\"weights.txt\")  # saves to file\n",
        "\n",
        "cleaned_weights_reduced = {x:y for x,y in cleaned_weights.items() if y!=0}\n",
        "\n",
        "# tickers\n",
        "tickers = list(cleaned_weights_reduced.keys())"
      ],
      "metadata": {
        "id": "QnxtiSm1EQz-"
      },
      "execution_count": null,
      "outputs": []
    },
    {
      "cell_type": "code",
      "source": [
        "# export data for Var Calculations (returns and weights)\n",
        "\n",
        "df_weights = pd.DataFrame(cleaned_weights_reduced.items(), columns=['Ticker', 'Weight %'])\n",
        "df_weights.to_csv('PRM weights.csv', index=False)"
      ],
      "metadata": {
        "id": "Q_bgipXdoiqz"
      },
      "execution_count": null,
      "outputs": []
    },
    {
      "cell_type": "code",
      "source": [
        "df_returns = returns_from_prices(df.loc[:, tickers])\n",
        "# df_returns\n",
        "df_returns = df_returns.fillna(0)\n",
        "df_returns.to_csv('PRM Returns.csv')"
      ],
      "metadata": {
        "id": "NaYDBxU_GL0B"
      },
      "execution_count": null,
      "outputs": []
    }
  ]
}